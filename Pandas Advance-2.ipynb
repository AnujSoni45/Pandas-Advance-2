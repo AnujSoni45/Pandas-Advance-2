{
 "cells": [
  {
   "cell_type": "code",
   "execution_count": 1,
   "id": "be62903f-6f1c-4ca9-ad37-f56332eb8e09",
   "metadata": {},
   "outputs": [],
   "source": [
    "# Consider following code to answer further questions:\n",
    "# import pandas as pd\n",
    "# course_name = [‘Data Science’, ‘Machine Learning’, ‘Big Data’, ‘Data Engineer’]\n",
    "# duration = [2,3,6,4]\n",
    "# df = pd.DataFrame(data = {‘course_name’ : course_name, ‘duration’ : duration})\n"
   ]
  },
  {
   "cell_type": "code",
   "execution_count": 2,
   "id": "69e52872-27e0-477a-b62b-12acda763e16",
   "metadata": {},
   "outputs": [],
   "source": [
    "# Q1. Write a code to print the data present in the second row of the dataframe, df."
   ]
  },
  {
   "cell_type": "code",
   "execution_count": 3,
   "id": "89b2183d-7f2f-4cb1-b637-33bf7b4c6bec",
   "metadata": {},
   "outputs": [
    {
     "name": "stdout",
     "output_type": "stream",
     "text": [
      "course_name    Machine Learning\n",
      "duration                      3\n",
      "Name: 1, dtype: object\n"
     ]
    }
   ],
   "source": [
    "# Answer\n",
    "import pandas as pd\n",
    "\n",
    "course_name = ['Data Science', 'Machine Learning', 'Big Data', 'Data Engineer']\n",
    "duration = [2, 3, 6, 4]\n",
    "\n",
    "df = pd.DataFrame(data={'course_name': course_name, 'duration': duration})\n",
    "\n",
    "# Print the data in the second row (index 1)\n",
    "second_row_data = df.iloc[1]\n",
    "print(second_row_data)\n"
   ]
  },
  {
   "cell_type": "code",
   "execution_count": 4,
   "id": "3f644937-24b0-40f4-a165-273901412136",
   "metadata": {},
   "outputs": [],
   "source": [
    "# Q2. What is the difference between the functions loc and iloc in pandas.DataFrame?"
   ]
  },
  {
   "cell_type": "markdown",
   "id": "deddb0a6-ab2a-4f68-9b05-f7e0be49327f",
   "metadata": {},
   "source": [
    "# Answer\n",
    "Indexing Method:\n",
    "\n",
    "loc: It is label-based indexing, which means you use labels (e.g., column names or row indices) to select data.\n",
    "iloc: It is integer-based indexing, which means you use integer positions to select data.\n",
    "\n",
    "Usage:\n",
    "\n",
    "loc is typically used when you want to select data based on row and column labels. You specify the row and column labels as arguments, and it returns the data at those labels.\n",
    "iloc is used when you want to select data based on integer positions. You specify the row and column positions (integers) as arguments, and it returns the data at those positions.\n",
    "\n",
    "Inclusive vs. Exclusive:\n",
    "\n",
    "loc includes the last element when slicing. For example, df.loc[1:3] includes rows 1, 2, and 3.\n",
    "iloc follows the Python convention of excluding the last element when slicing. For example, df.iloc[1:3] includes rows 1 and 2 but excludes row 3.\n",
    "\n",
    "Label vs. Integer:\n",
    "\n",
    "loc allows you to use labels for both rows and columns, making it more flexible when working with labeled data.\n",
    "iloc uses integer positions for rows and columns, which can be useful when dealing with data that doesn't have meaningful labels.\n"
   ]
  },
  {
   "cell_type": "code",
   "execution_count": 5,
   "id": "3a6518bf-0c96-4ed0-9fd3-d528339a5b41",
   "metadata": {},
   "outputs": [],
   "source": [
    "# Q3. Reindex the given dataframe using a variable, reindex = [3,0,1,2] and store it in the variable, new_df\n",
    "# then find the output for both new_df.loc[2] and new_df.iloc[2].\n",
    "# Did you observe any difference in both the outputs? If so then explain it.\n",
    "# Consider the below code to answer further questions:\n",
    "\n",
    "#  import pandas as pd\n",
    "#  import numpy as np\n",
    "#  columns = ['column_1', 'column_2', 'column_3', 'column_4', 'column_5', 'column_6']\n",
    "#  indices = [1,2,3,4,5,6]\n",
    "#  #Creating a dataframe:\n",
    "#  df1 = pd.DataFrame(np.random.rand(6,6), columns = columns, index = indices)"
   ]
  },
  {
   "cell_type": "code",
   "execution_count": 6,
   "id": "4a56e15a-1ff6-4fa3-91fa-d5c5aebfb592",
   "metadata": {},
   "outputs": [
    {
     "name": "stdout",
     "output_type": "stream",
     "text": [
      "Output for new_df.loc[2]:\n",
      " column_1    0.629698\n",
      "column_2    0.038734\n",
      "column_3    0.468837\n",
      "column_4    0.264516\n",
      "column_5    0.812484\n",
      "column_6    0.293083\n",
      "Name: 2, dtype: float64\n",
      "\n",
      "Output for new_df.iloc[2]:\n",
      " column_1    0.702961\n",
      "column_2    0.118711\n",
      "column_3    0.935446\n",
      "column_4    0.600464\n",
      "column_5    0.487942\n",
      "column_6    0.656884\n",
      "Name: 1, dtype: float64\n"
     ]
    }
   ],
   "source": [
    "# Answer\n",
    "import pandas as pd\n",
    "import numpy as np\n",
    "\n",
    "columns = ['column_1', 'column_2', 'column_3', 'column_4', 'column_5', 'column_6']\n",
    "indices = [1, 2, 3, 4, 5, 6]\n",
    "\n",
    "# Creating a DataFrame:\n",
    "df1 = pd.DataFrame(np.random.rand(6, 6), columns=columns, index=indices)\n",
    "\n",
    "# Define the reindexing order\n",
    "reindex = [3, 0, 1, 2]\n",
    "\n",
    "# Reindex df1 using the reindex list and store it in new_df\n",
    "new_df = df1.reindex(reindex)\n",
    "\n",
    "# Output for new_df.loc[2] and new_df.iloc[2]\n",
    "loc_output = new_df.loc[2]\n",
    "iloc_output = new_df.iloc[2]\n",
    "\n",
    "print(\"Output for new_df.loc[2]:\\n\", loc_output)\n",
    "print(\"\\nOutput for new_df.iloc[2]:\\n\", iloc_output)\n"
   ]
  },
  {
   "cell_type": "code",
   "execution_count": 7,
   "id": "428ee128-7899-4c4e-bc77-5e5a4467b10d",
   "metadata": {},
   "outputs": [],
   "source": [
    "# Q4. Write a code to find the following statistical measurements for the above dataframe df1:\n",
    "# (i) mean of each and every column present in the dataframe.\n",
    "# (ii) standard deviation of column, ‘column_2’"
   ]
  },
  {
   "cell_type": "code",
   "execution_count": 8,
   "id": "0ae0efbd-146e-4b71-9b54-3cb7f00e674f",
   "metadata": {},
   "outputs": [
    {
     "name": "stdout",
     "output_type": "stream",
     "text": [
      "Mean of each column:\n",
      " column_1    0.661734\n",
      "column_2    0.300331\n",
      "column_3    0.603194\n",
      "column_4    0.380643\n",
      "column_5    0.708213\n",
      "column_6    0.406682\n",
      "dtype: float64\n",
      "\n",
      "Standard Deviation of 'column_2': 0.3744295154923262\n"
     ]
    }
   ],
   "source": [
    "# Answer\n",
    "import pandas as pd\n",
    "import numpy as np\n",
    "\n",
    "# DataFrame df1 as mentioned in the previous question\n",
    "\n",
    "# (i) Mean of each and every column\n",
    "column_means = df1.mean()\n",
    "print(\"Mean of each column:\\n\", column_means)\n",
    "\n",
    "# (ii) Standard deviation of 'column_2'\n",
    "column2_std_dev = df1['column_2'].std()\n",
    "print(\"\\nStandard Deviation of 'column_2':\", column2_std_dev)\n"
   ]
  },
  {
   "cell_type": "code",
   "execution_count": 9,
   "id": "3fca6f30-05a7-4251-a9c5-c84230b025b0",
   "metadata": {},
   "outputs": [],
   "source": [
    "# Q5. Replace the data present in the second row of column, ‘column_2’ by a string variable then find the\n",
    "# mean of column, column_2.\n",
    "# If you are getting errors in executing it then explain why.\n",
    "# [Hint: To replace the data use df1.loc[] and equate this to string data of your choice.]"
   ]
  },
  {
   "cell_type": "code",
   "execution_count": 10,
   "id": "f8f21681-4df4-44ee-9dac-81d6b2509671",
   "metadata": {},
   "outputs": [
    {
     "name": "stdout",
     "output_type": "stream",
     "text": [
      "Error: unsupported operand type(s) for +: 'float' and 'str'\n"
     ]
    }
   ],
   "source": [
    "# Answer\n",
    "import pandas as pd\n",
    "import numpy as np\n",
    "\n",
    "# Replace the data in the second row of 'column_2' with a string\n",
    "df1.loc[2, 'column_2'] = 'StringData'\n",
    "\n",
    "# Attempt to calculate the mean of 'column_2'\n",
    "try:\n",
    "    column2_mean = df1['column_2'].mean()\n",
    "    print(\"Mean of 'column_2':\", column2_mean)\n",
    "except TypeError as e:\n",
    "    print(\"Error:\", e)\n",
    "    \n",
    "# When you run this code, you will get a TypeError because the 'column_2' now contains a mix of numeric and \n",
    "# non-numeric values, and you cannot calculate the mean of a column with non-numeric data. To calculate the mean \n",
    "# of 'column_2', you should ensure that all values in that column are numeric.\n"
   ]
  },
  {
   "cell_type": "code",
   "execution_count": 11,
   "id": "b965df83-12df-4dab-8dc8-e0fdce6988a5",
   "metadata": {},
   "outputs": [],
   "source": [
    "# Q6. What do you understand about the windows function in pandas and list the types of windows\n",
    "# functions?"
   ]
  },
  {
   "cell_type": "markdown",
   "id": "afdd415d-007e-43a7-8bdf-b2248b2bdf98",
   "metadata": {},
   "source": [
    "# Answer\n",
    "In Pandas, the term \"window functions\" refers to a class of functions that operate on a set of rows from a \n",
    "DataFrame within a sliding or rolling window of data. These functions allow you to perform calculations that \n",
    "are based on a specific window or group of rows, such as computing moving averages, aggregations, or other\n",
    "transformations over a specified window of data. Window functions are particularly useful for time series data\n",
    "analysis and data where the order of rows matters.\n",
    "\n",
    "There are several types of window functions in Pandas:\n",
    "\n",
    "Aggregation Functions:\n",
    "\n",
    "These functions allow you to compute aggregate values over a defined window of rows. Common aggregation functions include:\n",
    "sum(): Computes the sum of values within the window.\n",
    "mean(): Calculates the mean (average) of values within the window.\n",
    "min(): Finds the minimum value within the window.\n",
    "max(): Finds the maximum value within the window.\n",
    "count(): Counts the number of non-null values within the window.\n",
    "\n",
    "Transformation Functions:\n",
    "\n",
    "Transformation functions allow you to apply custom operations to each window. You can use functions like apply() to perform complex calculations within the window.\n",
    "\n",
    "Expanding and Rolling Functions:\n",
    "\n",
    "Expanding functions consider all rows from the beginning of the DataFrame up to the current row. These can be used to calculate cumulative sums, means, etc.\n",
    "Rolling functions operate within a fixed-size window that \"rolls\" through the DataFrame. These are often used for moving averages or other time-based calculations.\n",
    "\n",
    "Ranking Functions:\n",
    "\n",
    "Ranking functions assign a rank to each row within the window based on the values in a specified column.\n",
    "\n",
    "Shift and Lag Functions:\n",
    "\n",
    "These functions allow you to access values from previous or future rows within the window. shift() and diff() are common examples.\n",
    "\n",
    "Covariance and Correlation Functions:\n",
    "\n",
    "Functions like cov() and corr() can calculate the covariance and correlation between columns within a window.\n",
    "\n",
    "Window Custom Functions:\n",
    "\n",
    "You can define custom functions using apply() or agg() to perform specialized operations within the window."
   ]
  },
  {
   "cell_type": "code",
   "execution_count": 12,
   "id": "8d16038c-4a7f-46c1-9ec7-52aa6506da44",
   "metadata": {},
   "outputs": [],
   "source": [
    "# Q7. Write a code to print only the current month and year at the time of answering this question.\n",
    "# [Hint: Use pandas.datetime function]"
   ]
  },
  {
   "cell_type": "code",
   "execution_count": 13,
   "id": "116b9864-27dc-4964-9e6d-cba52fe093a2",
   "metadata": {},
   "outputs": [
    {
     "name": "stdout",
     "output_type": "stream",
     "text": [
      "Current Month: 9\n",
      "Current Year: 2023\n"
     ]
    }
   ],
   "source": [
    "# Answer\n",
    "import pandas as pd\n",
    "from datetime import datetime\n",
    "\n",
    "# Get the current date and time\n",
    "current_date = datetime.now()\n",
    "\n",
    "# Extract the current month and year\n",
    "current_month = current_date.month\n",
    "current_year = current_date.year\n",
    "\n",
    "# Print the current month and year\n",
    "print(f\"Current Month: {current_month}\")\n",
    "print(f\"Current Year: {current_year}\")\n"
   ]
  },
  {
   "cell_type": "code",
   "execution_count": 14,
   "id": "777e744c-1645-40e6-af28-2fcdb7e53d5b",
   "metadata": {},
   "outputs": [],
   "source": [
    "# Q8. Write a Python program that takes in two dates as input (in the format YYYY-MM-DD) and\n",
    "# calculates the difference between them in days, hours, and minutes using Pandas time delta. The\n",
    "# program should prompt the user to enter the dates and display the result."
   ]
  },
  {
   "cell_type": "code",
   "execution_count": 15,
   "id": "ed63b45d-9e39-4af3-912b-7a207f20c999",
   "metadata": {},
   "outputs": [
    {
     "name": "stdin",
     "output_type": "stream",
     "text": [
      "Enter the first date (YYYY-MM-DD):  2023-04-14\n",
      "Enter the second date (YYYY-MM-DD):  2024-06-15\n"
     ]
    },
    {
     "name": "stdout",
     "output_type": "stream",
     "text": [
      "Time Difference: 428 days, 0 hours, 0 minutes\n"
     ]
    }
   ],
   "source": [
    "# Answer\n",
    "import pandas as pd\n",
    "\n",
    "# Function to calculate the difference between two dates\n",
    "def calculate_time_difference(date1, date2):\n",
    "    # Convert input strings to datetime objects\n",
    "    date1 = pd.to_datetime(date1)\n",
    "    date2 = pd.to_datetime(date2)\n",
    "\n",
    "    # Calculate the time difference\n",
    "    time_difference = date2 - date1\n",
    "\n",
    "    # Extract days, hours, and minutes\n",
    "    days = time_difference.days\n",
    "    hours, seconds = divmod(time_difference.seconds, 3600)\n",
    "    minutes, seconds = divmod(seconds, 60)\n",
    "\n",
    "    return days, hours, minutes\n",
    "\n",
    "# Get input from the user\n",
    "date_str1 = input(\"Enter the first date (YYYY-MM-DD): \")\n",
    "date_str2 = input(\"Enter the second date (YYYY-MM-DD): \")\n",
    "\n",
    "# Calculate the time difference\n",
    "try:\n",
    "    days_diff, hours_diff, minutes_diff = calculate_time_difference(date_str1, date_str2)\n",
    "    print(f\"Time Difference: {days_diff} days, {hours_diff} hours, {minutes_diff} minutes\")\n",
    "except ValueError:\n",
    "    print(\"Invalid date format. Please use the format YYYY-MM-DD.\")\n"
   ]
  },
  {
   "cell_type": "code",
   "execution_count": 16,
   "id": "d0543cc7-11f7-4b6c-8d17-a4847cf12aa9",
   "metadata": {},
   "outputs": [],
   "source": [
    "# Q9. Write a Python program that reads a CSV file containing categorical data and converts a specified\n",
    "# column to a categorical data type. The program should prompt the user to enter the file path, column\n",
    "# name, and category order, and then display the sorted data."
   ]
  },
  {
   "cell_type": "code",
   "execution_count": 17,
   "id": "f5aaa2fb-18b4-41f1-8109-3d47bcccb54b",
   "metadata": {},
   "outputs": [
    {
     "name": "stdin",
     "output_type": "stream",
     "text": [
      "Enter the file path (CSV file):  gpa.csv\n",
      "Enter the column name to convert to categorical:  studyweek\n",
      "Enter the category order (comma-separated):  sleepnight\n"
     ]
    },
    {
     "name": "stdout",
     "output_type": "stream",
     "text": [
      "\n",
      "Sorted Data:\n",
      "      gpa studyweek  sleepnight  out  gender\n",
      "0   3.890       NaN         6.0  3.0  female\n",
      "1   3.900       NaN         6.0  1.0  female\n",
      "2   3.750       NaN         7.0  1.0  female\n",
      "3   3.600       NaN         6.0  4.0    male\n",
      "4   4.000       NaN         7.0  3.0  female\n",
      "5   3.150       NaN         7.0  3.0    male\n",
      "6   3.250       NaN         6.0  1.0  female\n",
      "7   3.925       NaN         8.0  3.0  female\n",
      "8   3.428       NaN         8.0  2.0  female\n",
      "9   3.800       NaN         8.0  4.0    male\n",
      "10  3.900       NaN         8.0  1.0  female\n",
      "11  2.900       NaN         6.0  2.0  female\n",
      "12  3.925       NaN         7.0  2.0  female\n",
      "13  3.650       NaN         9.0  3.0  female\n",
      "14  3.750       NaN         8.5  3.5  female\n",
      "15  4.670       NaN         6.5  3.0    male\n",
      "16  3.100       NaN         7.5  3.5    male\n",
      "17  3.800       NaN         8.0  1.0  female\n",
      "18  3.400       NaN         9.0  3.0  female\n",
      "19  3.575       NaN         6.5  1.5  female\n",
      "20  3.850       NaN         7.0  2.5  female\n",
      "21  3.400       NaN         7.0  3.0  female\n",
      "22  3.500       NaN         8.0  2.0    male\n",
      "23  3.600       NaN         6.0  3.5  female\n",
      "24  3.825       NaN         8.0  4.0  female\n",
      "25  3.925       NaN         8.0  3.0  female\n",
      "26  4.000       NaN         8.0  3.0  female\n",
      "27  3.425       NaN         9.0  3.0  female\n",
      "28  3.750       NaN         6.0  0.0  female\n",
      "29  3.150       NaN         6.0  0.0  female\n",
      "30  3.400       NaN         6.5  2.0  female\n",
      "31  3.700       NaN         7.0  1.0  female\n",
      "32  3.360       NaN         7.0  1.0  female\n",
      "33  3.700       NaN         7.0  1.5    male\n",
      "34  3.700       NaN         5.0  1.0  female\n",
      "35  3.600       NaN         7.0  2.0  female\n",
      "36  3.825       NaN         7.0  1.5  female\n",
      "37  3.200       NaN         6.0  1.0  female\n",
      "38  3.500       NaN         8.0  3.0    male\n",
      "39  3.500       NaN         7.0  1.5  female\n",
      "40  3.000       NaN         6.0  1.5  female\n",
      "41  3.980       NaN         7.0  1.5  female\n",
      "42  3.700       NaN         5.0  1.0    male\n",
      "43  3.810       NaN         7.5  2.5  female\n",
      "44  4.000       NaN         5.0  1.0  female\n",
      "45  3.100       NaN         7.0  2.0    male\n",
      "46  3.400       NaN         9.0  2.0    male\n",
      "47  3.500       NaN         8.0  2.0    male\n",
      "48  3.650       NaN         6.0  2.0  female\n",
      "49  3.700       NaN         8.0  2.0  female\n",
      "50  3.100       NaN         8.0  1.0  female\n",
      "51  4.000       NaN         7.0  3.0  female\n",
      "52  3.350       NaN         6.0  2.0  female\n",
      "53  3.541       NaN         7.5  1.5  female\n",
      "54  2.900       NaN         6.0  3.0  female\n"
     ]
    }
   ],
   "source": [
    "# Answer\n",
    "import pandas as pd\n",
    "\n",
    "# Function to read the CSV file and convert a specified column to categorical\n",
    "def convert_column_to_categorical(file_path, column_name, category_order):\n",
    "    try:\n",
    "        # Read the CSV file into a DataFrame\n",
    "        df = pd.read_csv(file_path)\n",
    "\n",
    "        # Convert the specified column to categorical with custom category order\n",
    "        df[column_name] = pd.Categorical(df[column_name], categories=category_order, ordered=True)\n",
    "\n",
    "        # Sort the DataFrame based on the categorical column\n",
    "        sorted_df = df.sort_values(by=[column_name])\n",
    "\n",
    "        return sorted_df\n",
    "    except FileNotFoundError:\n",
    "        print(\"File not found.\")\n",
    "    except KeyError:\n",
    "        print(f\"Column '{column_name}' not found in the CSV file.\")\n",
    "\n",
    "# Get input from the user\n",
    "file_path = input(\"Enter the file path (CSV file): \")\n",
    "column_name = input(\"Enter the column name to convert to categorical: \")\n",
    "category_order_str = input(\"Enter the category order (comma-separated): \")\n",
    "\n",
    "# Convert the category order input to a list\n",
    "category_order = [category.strip() for category in category_order_str.split(',')]\n",
    "\n",
    "# Call the function to convert and sort the data\n",
    "sorted_data = convert_column_to_categorical(file_path, column_name, category_order)\n",
    "\n",
    "# Display the sorted data\n",
    "if sorted_data is not None:\n",
    "    print(\"\\nSorted Data:\")\n",
    "    print(sorted_data)\n",
    "\n",
    "\n"
   ]
  },
  {
   "cell_type": "code",
   "execution_count": 18,
   "id": "cdeae508-1775-4c28-be61-3a45648ef232",
   "metadata": {},
   "outputs": [],
   "source": [
    "# Q10. Write a Python program that reads a CSV file containing sales data for different products and\n",
    "# visualizes the data using a stacked bar chart to show the sales of each product category over time. The\n",
    "# program should prompt the user to enter the file path and display the chart."
   ]
  },
  {
   "cell_type": "code",
   "execution_count": 28,
   "id": "21b1f2f1-4a01-4978-b4a2-b4803e8edaeb",
   "metadata": {},
   "outputs": [
    {
     "name": "stdin",
     "output_type": "stream",
     "text": [
      "Enter the path of the CSV file:  Sales_data2.csv\n"
     ]
    },
    {
     "name": "stdout",
     "output_type": "stream",
     "text": [
      "The CSV file should have columns named 'Date', 'Category', and 'Sales'.\n"
     ]
    }
   ],
   "source": [
    "import pandas as pd\n",
    "import matplotlib.pyplot as plt\n",
    "\n",
    "# Function to read the CSV file and plot the stacked bar chart\n",
    "def plot_sales_data(file_path):\n",
    "    # Read the CSV file into a pandas DataFrame\n",
    "    try:\n",
    "        df = pd.read_csv(\"Sales_data2.csv\")\n",
    "    except FileNotFoundError:\n",
    "        print(\"File not found. Please check the file path.\")\n",
    "        return\n",
    "\n",
    "    # Assuming your CSV file has columns like 'Date', 'Category', and 'Sales'\n",
    "    # You may need to adjust column names accordingly\n",
    "    if 'Date' not in df.columns or 'Category' not in df.columns or 'Sales' not in df.columns:\n",
    "        print(\"The CSV file should have columns named 'Date', 'Category', and 'Sales'.\")\n",
    "        return\n",
    "\n",
    "    # Convert the 'Date' column to a datetime object\n",
    "    df['Date'] = pd.to_datetime(df['Date'])\n",
    "\n",
    "    # Pivot the data to create a DataFrame suitable for plotting\n",
    "    pivot_df = df.pivot(index='Date', columns='Category', values='Sales').fillna(0)\n",
    "\n",
    "    # Plot the stacked bar chart\n",
    "    pivot_df.plot(kind='bar', stacked=True, figsize=(10, 6))\n",
    "    plt.title(\"Stacked Bar Chart of Sales by Category Over Time\")\n",
    "    plt.xlabel(\"Date\")\n",
    "    plt.ylabel(\"Sales\")\n",
    "    plt.legend(title='Category', loc='upper left', bbox_to_anchor=(1, 1))\n",
    "\n",
    "    # Display the chart\n",
    "    plt.show()\n",
    "\n",
    "# Main program\n",
    "if __name__ == \"__main__\":\n",
    "    file_path = input(\"Enter the path of the CSV file: \")\n",
    "    plot_sales_data(file_path)"
   ]
  },
  {
   "cell_type": "code",
   "execution_count": null,
   "id": "b36b19bb-cc13-491e-9128-14522ccb5d00",
   "metadata": {},
   "outputs": [],
   "source": [
    "# Q11. You are given a CSV file containing student data that includes the student ID and their test score. Write\n",
    "# a Python program that reads the CSV file, calculates the mean, median, and mode of the test scores, and\n",
    "# displays the results in a table.\n",
    "# The program should do the followingM\n",
    "# I Prompt the user to enter the file path of the CSV file containing the student dataR\n",
    "# I Read the CSV file into a Pandas DataFrameR\n",
    "# I Calculate the mean, median, and mode of the test scores using Pandas toolsR\n",
    "# I Display the mean, median, and mode in a table.\n",
    "# Assume the CSV file contains the following columnsM\n",
    "# I Student ID: The ID of the studentR\n",
    "# I Test Score: The score of the student's test.\n",
    "# Example usage of the program:\n",
    "# Enter the file path of the CSV file containing the student data: student_data.csv\n",
    "# +-----------+--------+\n",
    "# | Statistic | Value |\n",
    "# +-----------+--------+\n",
    "# | Mean | 79.6 |\n",
    "# | Median | 82 |\n",
    "# | Mode | 85, 90 |\n",
    "# +-----------+--------+\n",
    "# Assume that the CSV file student_data.csv contains the following data:\n",
    "# Student ID,Test Score\n",
    "# 1,85\n",
    "# 2,90\n",
    "# 3,80\n",
    "# 4,75\n",
    "# 5,85\n",
    "# 6,82\n",
    "# 7,78\n",
    "# 8,85\n",
    "# 9,90\n",
    "# 10,85\n",
    "# The program should calculate the mean, median, and mode of the test scores and display the results\n",
    "# in a table."
   ]
  },
  {
   "cell_type": "code",
   "execution_count": 26,
   "id": "94043f38-60e9-40cf-b11f-4cdd0cd8ca61",
   "metadata": {},
   "outputs": [
    {
     "name": "stdin",
     "output_type": "stream",
     "text": [
      "Enter the file path of the CSV file containing student data:  Students data.csv\n"
     ]
    },
    {
     "name": "stdout",
     "output_type": "stream",
     "text": [
      "+-----------+--------+\n",
      "| Statistic | Value  |\n",
      "+-----------+--------+\n",
      "| Mean      | 83.0   |\n",
      "| Median    | 84.11   |\n",
      "| Mode      | 77.53, 87.3  |\n",
      "+-----------+--------+\n"
     ]
    }
   ],
   "source": [
    "# Answer\n",
    "import pandas as pd\n",
    "import statistics as stats\n",
    "\n",
    "# Function to calculate and display mean, median, and mode\n",
    "def calculate_and_display_stats(file_path):\n",
    "    try:\n",
    "        # Read the CSV file into a pandas DataFrame\n",
    "        df = pd.read_csv(\"Students data.csv\")\n",
    "\n",
    "        # Check if the DataFrame contains the 'Test Score' column\n",
    "        if 'Test Score' not in df.columns:\n",
    "            print(\"The CSV file should have a column named 'Test Score'.\")\n",
    "            return\n",
    "\n",
    "        # Calculate mean, median, and mode\n",
    "        mean_score = df['Test Score'].mean()\n",
    "        median_score = df['Test Score'].median()\n",
    "        mode_scores = stats.multimode(df['Test Score'])\n",
    "\n",
    "        # Display the results in a table\n",
    "        print(\"+-----------+--------+\")\n",
    "        print(\"| Statistic | Value  |\")\n",
    "        print(\"+-----------+--------+\")\n",
    "        print(f\"| Mean      | {mean_score:.1f}   |\")\n",
    "        print(f\"| Median    | {median_score}   |\")\n",
    "        print(f\"| Mode      | {', '.join(map(str, mode_scores))}  |\")\n",
    "        print(\"+-----------+--------+\")\n",
    "\n",
    "    except FileNotFoundError:\n",
    "        print(\"File not found. Please check the file path.\")\n",
    "    except Exception as e:\n",
    "        print(f\"An error occurred: {str(e)}\")\n",
    "\n",
    "# Main program\n",
    "if __name__ == \"__main__\":\n",
    "    file_path = input(\"Enter the file path of the CSV file containing student data: \")\n",
    "    calculate_and_display_stats(file_path)\n"
   ]
  },
  {
   "cell_type": "code",
   "execution_count": null,
   "id": "f3c0fca0-a4e7-4754-bda5-b8a561c09dd2",
   "metadata": {},
   "outputs": [],
   "source": []
  }
 ],
 "metadata": {
  "kernelspec": {
   "display_name": "Python 3 (ipykernel)",
   "language": "python",
   "name": "python3"
  },
  "language_info": {
   "codemirror_mode": {
    "name": "ipython",
    "version": 3
   },
   "file_extension": ".py",
   "mimetype": "text/x-python",
   "name": "python",
   "nbconvert_exporter": "python",
   "pygments_lexer": "ipython3",
   "version": "3.10.8"
  }
 },
 "nbformat": 4,
 "nbformat_minor": 5
}
